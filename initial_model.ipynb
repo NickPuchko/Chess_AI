{
 "cells": [
  {
   "cell_type": "code",
   "execution_count": 58,
   "metadata": {},
   "outputs": [],
   "source": [
    "import tensorflow as tf\n",
    "from tensorflow import keras\n",
    "import os, shutil\n",
    "import numpy as np\n",
    "import matplotlib.pyplot as plt\n",
    "from tensorflow.python.keras.preprocessing.image import ImageDataGenerator\n",
    "from tensorflow.python.keras.models import Sequential\n",
    "from tensorflow.python.keras.layers import Conv2D, MaxPooling2D\n",
    "from tensorflow.python.keras.layers import Activation, Dropout, Flatten, Dense"
   ]
  },
  {
   "cell_type": "code",
   "execution_count": 60,
   "metadata": {},
   "outputs": [],
   "source": [
    "train_dir = '/Users/nick/Downloads/chess_data/train'\n",
    "val_dir = '/Users/nick/Downloads/chess_data/val'\n",
    "test_dir = '/Users/nick/Downloads/chess_data/test'\n",
    "\n",
    "img_width, img_height = 72, 72\n",
    "input_shape = (img_width, img_height, 3)\n",
    "epochs = 10\n",
    "batch_size = 15\n",
    "\n",
    "test_data_portion = 0.15\n",
    "val_data_portion = 0.15\n",
    "nb_images = 60\n",
    "\n",
    "nb_train_samples = 90\n",
    "nb_validation_samples = 15\n",
    "nb_test_samples = 16"
   ]
  },
  {
   "cell_type": "code",
   "execution_count": 61,
   "metadata": {},
   "outputs": [],
   "source": [
    "# start_val_data_idx = int(nb_images * (1 - val_data_portion - test_data_portion))\n",
    "# start_test_data_idx = int(nb_images * (1 - test_data_portion))\n",
    "# print(start_test_data_idx, start_val_data_idx)"
   ]
  },
  {
   "cell_type": "code",
   "execution_count": 62,
   "metadata": {},
   "outputs": [],
   "source": [
    "model = Sequential()\n",
    "model.add(Conv2D(32, (3, 3), input_shape=input_shape))\n",
    "model.add(Activation('relu'))\n",
    "model.add(MaxPooling2D(pool_size=(2, 2)))\n",
    "\n",
    "model.add(Conv2D(32, (3, 3)))\n",
    "model.add(Activation('relu'))\n",
    "model.add(MaxPooling2D(pool_size=(2, 2)))\n",
    "\n",
    "model.add(Conv2D(64, (3, 3)))\n",
    "model.add(Activation('relu'))\n",
    "model.add(MaxPooling2D(pool_size=(2, 2)))\n",
    "\n",
    "model.add(Flatten())\n",
    "model.add(Dense(64))\n",
    "model.add(Activation('relu'))\n",
    "model.add(Dropout(0.5))\n",
    "model.add(Dense(1))\n",
    "model.add(Activation('sigmoid'))"
   ]
  },
  {
   "cell_type": "code",
   "execution_count": 63,
   "metadata": {},
   "outputs": [],
   "source": [
    "model.compile(loss='binary_crossentropy',\n",
    "              optimizer='adam',\n",
    "              metrics=['accuracy'])"
   ]
  },
  {
   "cell_type": "code",
   "execution_count": 64,
   "metadata": {},
   "outputs": [],
   "source": [
    "datagen = ImageDataGenerator(rescale=1./255)"
   ]
  },
  {
   "cell_type": "code",
   "execution_count": 70,
   "metadata": {},
   "outputs": [
    {
     "name": "stdout",
     "output_type": "stream",
     "text": [
      "Found 88 images belonging to 2 classes.\n",
      "Found 10 images belonging to 2 classes.\n",
      "Found 30 images belonging to 2 classes.\n"
     ]
    }
   ],
   "source": [
    "train_generator = datagen.flow_from_directory(\n",
    "    train_dir,\n",
    "    target_size=(img_width, img_height),\n",
    "    batch_size=batch_size,\n",
    "    class_mode='binary')\n",
    "\n",
    "val_generator = datagen.flow_from_directory(\n",
    "    val_dir,\n",
    "    target_size=(img_width, img_height),\n",
    "    batch_size=batch_size,\n",
    "    class_mode='binary')\n",
    "\n",
    "test_generator = datagen.flow_from_directory(\n",
    "    test_dir,\n",
    "    target_size=(img_width, img_height),\n",
    "    batch_size=batch_size,\n",
    "    class_mode='binary')"
   ]
  },
  {
   "cell_type": "code",
   "execution_count": 71,
   "metadata": {},
   "outputs": [
    {
     "name": "stdout",
     "output_type": "stream",
     "text": [
      "WARNING:tensorflow:From /anaconda3/lib/python3.6/site-packages/tensorflow/python/ops/math_ops.py:3066: to_int32 (from tensorflow.python.ops.math_ops) is deprecated and will be removed in a future version.\n",
      "Instructions for updating:\n",
      "Use tf.cast instead.\n",
      "Epoch 1/10\n",
      "1/1 [==============================] - 0s 481ms/step - loss: 0.6433 - acc: 0.7000\n",
      "6/6 [==============================] - 2s 388ms/step - loss: 0.6638 - acc: 0.5795 - val_loss: 0.6433 - val_acc: 0.7000\n",
      "Epoch 2/10\n",
      "1/1 [==============================] - 0s 159ms/step - loss: 0.5535 - acc: 0.9000\n",
      "6/6 [==============================] - 1s 137ms/step - loss: 0.5807 - acc: 0.6477 - val_loss: 0.5535 - val_acc: 0.9000\n",
      "Epoch 3/10\n",
      "1/1 [==============================] - 0s 203ms/step - loss: 0.4025 - acc: 0.8000\n",
      "6/6 [==============================] - 1s 198ms/step - loss: 0.4519 - acc: 0.8636 - val_loss: 0.4025 - val_acc: 0.8000\n",
      "Epoch 4/10\n",
      "1/1 [==============================] - 0s 167ms/step - loss: 0.2600 - acc: 1.0000\n",
      "6/6 [==============================] - 1s 203ms/step - loss: 0.2743 - acc: 0.9091 - val_loss: 0.2600 - val_acc: 1.0000\n",
      "Epoch 5/10\n",
      "1/1 [==============================] - 0s 191ms/step - loss: 0.3818 - acc: 0.8000\n",
      "6/6 [==============================] - 1s 214ms/step - loss: 0.2005 - acc: 0.9205 - val_loss: 0.3818 - val_acc: 0.8000\n",
      "Epoch 6/10\n",
      "1/1 [==============================] - 0s 153ms/step - loss: 0.0993 - acc: 1.0000\n",
      "6/6 [==============================] - 1s 191ms/step - loss: 0.0682 - acc: 1.0000 - val_loss: 0.0993 - val_acc: 1.0000\n",
      "Epoch 7/10\n",
      "1/1 [==============================] - 0s 177ms/step - loss: 0.2022 - acc: 0.8000\n",
      "6/6 [==============================] - 1s 198ms/step - loss: 0.0350 - acc: 1.0000 - val_loss: 0.2022 - val_acc: 0.8000\n",
      "Epoch 8/10\n",
      "1/1 [==============================] - 0s 162ms/step - loss: 0.0270 - acc: 1.0000\n",
      "6/6 [==============================] - 1s 192ms/step - loss: 0.0552 - acc: 0.9886 - val_loss: 0.0270 - val_acc: 1.0000\n",
      "Epoch 9/10\n",
      "1/1 [==============================] - 0s 194ms/step - loss: 0.5453 - acc: 0.8000\n",
      "6/6 [==============================] - 1s 195ms/step - loss: 0.0526 - acc: 0.9773 - val_loss: 0.5453 - val_acc: 0.8000\n",
      "Epoch 10/10\n",
      "1/1 [==============================] - 0s 164ms/step - loss: 0.0296 - acc: 1.0000\n",
      "6/6 [==============================] - 1s 202ms/step - loss: 0.1053 - acc: 0.9432 - val_loss: 0.0296 - val_acc: 1.0000\n"
     ]
    },
    {
     "data": {
      "text/plain": [
       "<tensorflow.python.keras.callbacks.History at 0xb6bcae2e8>"
      ]
     },
     "execution_count": 71,
     "metadata": {},
     "output_type": "execute_result"
    }
   ],
   "source": [
    "model.fit_generator(\n",
    "    train_generator,\n",
    "    steps_per_epoch=nb_train_samples // batch_size,\n",
    "    epochs=epochs,\n",
    "    validation_data=val_generator,\n",
    "    validation_steps=nb_validation_samples // batch_size)"
   ]
  },
  {
   "cell_type": "code",
   "execution_count": 72,
   "metadata": {},
   "outputs": [],
   "source": [
    "scores = model.evaluate_generator(test_generator, nb_test_samples // batch_size)"
   ]
  },
  {
   "cell_type": "code",
   "execution_count": 73,
   "metadata": {},
   "outputs": [
    {
     "name": "stdout",
     "output_type": "stream",
     "text": [
      "Аккуратность на тестовых данных: 90.00%\n"
     ]
    }
   ],
   "source": [
    "print(\"Аккуратность на тестовых данных: %.2f%%\" % (scores[1]*100))"
   ]
  },
  {
   "cell_type": "code",
   "execution_count": null,
   "metadata": {},
   "outputs": [],
   "source": []
  }
 ],
 "metadata": {
  "kernelspec": {
   "display_name": "Python 3",
   "language": "python",
   "name": "python3"
  },
  "language_info": {
   "codemirror_mode": {
    "name": "ipython",
    "version": 3
   },
   "file_extension": ".py",
   "mimetype": "text/x-python",
   "name": "python",
   "nbconvert_exporter": "python",
   "pygments_lexer": "ipython3",
   "version": "3.6.8"
  }
 },
 "nbformat": 4,
 "nbformat_minor": 2
}
